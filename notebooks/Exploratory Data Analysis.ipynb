{
 "cells": [
  {
   "cell_type": "markdown",
   "metadata": {},
   "source": [
    "# Exploratory Data Analysis for sTEC project\n",
    "\n",
    "This jupyter contains all the EDA used to understand the hawaii dataset (located in `[path of the repository]/data/hawaii/2012`) The following data analysis is divided into 3 major parts with\n",
    "\n",
    "1. Obtaining the daily, hourly, and minute averages and obtaining the general time frame of the anomaly\n",
    "2. General visualization of the Ground Station and Satellite Values\n",
    "3. Geographic visualization\n",
    "4. Analysis of the distribution of data and finding a way to normalize it"
   ]
  },
  {
   "cell_type": "code",
   "execution_count": 3,
   "metadata": {},
   "outputs": [],
   "source": [
    "#importing all modules necessary for the necessary notebooks\n",
    "import matplotlib.pyplot as plt\n",
    "import numpy as np\n",
    "import sys\n",
    "import os \n",
    "import pandas as pd\n",
    "from pathlib import Path\n",
    "import seaborn as sns\n",
    "from tqdm.notebook import tqdm\n",
    "from src import data\n",
    "import matplotlib as mpl\n",
    "from mpl_toolkits.basemap import Basemap\n",
    "from mpl_toolkits.axes_grid1 import make_axes_locatable\n",
    "import plotly.express as px\n",
    "import probscale\n",
    "# could not locate the mapbox token\n",
    "## read mapbox access token \n",
    "# px.set_mapbox_access_token(open(\"../.mapbox_token\").read())\n",
    "import seaborn as sns\n",
    "from src import data"
   ]
  },
  {
   "cell_type": "markdown",
   "metadata": {},
   "source": [
    "## Analysis of Averages\n",
    "\n",
    "\n",
    "#### the setup for data containers"
   ]
  }
 ],
 "metadata": {
  "kernelspec": {
   "display_name": "Python 3.6.10 64-bit ('sTEC': conda)",
   "language": "python",
   "name": "python361064bitstecconda2f11d871f2714113ac49f6c79c28170b"
  },
  "language_info": {
   "codemirror_mode": {
    "name": "ipython",
    "version": 3
   },
   "file_extension": ".py",
   "mimetype": "text/x-python",
   "name": "python",
   "nbconvert_exporter": "python",
   "pygments_lexer": "ipython3",
   "version": "3.6.10"
  }
 },
 "nbformat": 4,
 "nbformat_minor": 4
}
